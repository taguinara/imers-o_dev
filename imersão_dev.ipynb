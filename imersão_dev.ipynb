{
  "nbformat": 4,
  "nbformat_minor": 0,
  "metadata": {
    "colab": {
      "name": "imersão_dev.ipynb",
      "provenance": [],
      "authorship_tag": "ABX9TyOmG8V4qEHWvLypsQSmwNWn",
      "include_colab_link": true
    },
    "kernelspec": {
      "name": "python3",
      "display_name": "Python 3"
    },
    "language_info": {
      "name": "python"
    }
  },
  "cells": [
    {
      "cell_type": "markdown",
      "metadata": {
        "id": "view-in-github",
        "colab_type": "text"
      },
      "source": [
        "<a href=\"https://colab.research.google.com/github/taguinara/imersao_dev/blob/main/imers%C3%A3o_dev.ipynb\" target=\"_parent\"><img src=\"https://colab.research.google.com/assets/colab-badge.svg\" alt=\"Open In Colab\"/></a>"
      ]
    },
    {
      "cell_type": "code",
      "metadata": {
        "id": "C9WW-RNZnUyG",
        "colab": {
          "base_uri": "https://localhost:8080/",
          "height": 53
        },
        "outputId": "6131075f-0562-457d-834f-997487687da2"
      },
      "source": [
        "valor_em_dolar_texto = input('Digite o valor em dolar')\n",
        "valor_em_dolar_texto"
      ],
      "execution_count": 2,
      "outputs": [
        {
          "output_type": "stream",
          "text": [
            "Digite o valor em dolar10\n"
          ],
          "name": "stdout"
        },
        {
          "output_type": "execute_result",
          "data": {
            "application/vnd.google.colaboratory.intrinsic+json": {
              "type": "string"
            },
            "text/plain": [
              "'10'"
            ]
          },
          "metadata": {
            "tags": []
          },
          "execution_count": 2
        }
      ]
    },
    {
      "cell_type": "code",
      "metadata": {
        "id": "jrlua-gwo96l",
        "colab": {
          "base_uri": "https://localhost:8080/"
        },
        "outputId": "f35771b4-aee1-4762-857f-f3d8cb412ded"
      },
      "source": [
        "type(valor_em_dolar_texto)"
      ],
      "execution_count": 3,
      "outputs": [
        {
          "output_type": "execute_result",
          "data": {
            "text/plain": [
              "str"
            ]
          },
          "metadata": {
            "tags": []
          },
          "execution_count": 3
        }
      ]
    },
    {
      "cell_type": "code",
      "metadata": {
        "colab": {
          "base_uri": "https://localhost:8080/"
        },
        "id": "xen85mwGpDXm",
        "outputId": "cd9f50c9-7947-4761-8e77-f2957c92fa60"
      },
      "source": [
        "valor_em_dolar_numerico = float(valor_em_dolar_texto)\n",
        "type(valor_em_dolar_numerico)"
      ],
      "execution_count": 4,
      "outputs": [
        {
          "output_type": "execute_result",
          "data": {
            "text/plain": [
              "float"
            ]
          },
          "metadata": {
            "tags": []
          },
          "execution_count": 4
        }
      ]
    },
    {
      "cell_type": "code",
      "metadata": {
        "colab": {
          "base_uri": "https://localhost:8080/"
        },
        "id": "u2ehDwMhpRpc",
        "outputId": "0b4d82f3-078a-4194-f375-8b17c8eaf6bf"
      },
      "source": [
        "valor_em_real = valor_em_dolar_numerico * 5.51\n",
        "valor_em_real"
      ],
      "execution_count": 5,
      "outputs": [
        {
          "output_type": "execute_result",
          "data": {
            "text/plain": [
              "55.099999999999994"
            ]
          },
          "metadata": {
            "tags": []
          },
          "execution_count": 5
        }
      ]
    },
    {
      "cell_type": "code",
      "metadata": {
        "colab": {
          "base_uri": "https://localhost:8080/"
        },
        "id": "3NN4ku9rpabF",
        "outputId": "097240f4-f803-458c-81bc-1bc06cdf524c"
      },
      "source": [
        "valor_em_real_fixado = round (valor_em_real,2)\n",
        "valor_em_real_fixado"
      ],
      "execution_count": 6,
      "outputs": [
        {
          "output_type": "execute_result",
          "data": {
            "text/plain": [
              "55.1"
            ]
          },
          "metadata": {
            "tags": []
          },
          "execution_count": 6
        }
      ]
    }
  ]
}